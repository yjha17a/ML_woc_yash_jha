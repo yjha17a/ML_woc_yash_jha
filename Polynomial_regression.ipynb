{
  "nbformat": 4,
  "nbformat_minor": 0,
  "metadata": {
    "colab": {
      "provenance": []
    },
    "kernelspec": {
      "name": "python3",
      "display_name": "Python 3"
    },
    "language_info": {
      "name": "python"
    }
  },
  "cells": [
    {
      "cell_type": "code",
      "execution_count": 2,
      "metadata": {
        "id": "Onq7hGhjOVIP",
        "colab": {
          "base_uri": "https://localhost:8080/"
        },
        "outputId": "331f2454-41c4-4753-d164-bb6093da053c"
      },
      "outputs": [
        {
          "output_type": "stream",
          "name": "stdout",
          "text": [
            "Mounted at /content/drive\n"
          ]
        }
      ],
      "source": [
        "from google.colab import drive\n",
        "import pandas as pd\n",
        "import numpy as np\n",
        "from google.colab import drive\n",
        "drive.mount('/content/drive')\n",
        "file_path='/content/drive/My Drive/datasets/polynomial_regression_train.csv'\n",
        "data=pd.read_csv(file_path)\n",
        "matrix = data.iloc[:, 1:].values"
      ]
    },
    {
      "cell_type": "code",
      "source": [
        "import numpy as np\n",
        "import matplotlib.pyplot as plt\n",
        "\n",
        "for r in range(5):\n",
        "  matrix[:, r] = (matrix[:, r] - np.mean(matrix[:, r])) / np.std(matrix[:, r])\n",
        "degree=5\n",
        "\n",
        "n_samples, n_features = matrix[:, :5].shape\n",
        "X_poly=matrix[:, :5].copy()\n",
        "for d in range(1, degree):\n",
        "            for i in range(n_features):\n",
        "                for j in range(i, n_features):\n",
        "                    interaction_term =((matrix[:, i] ** d) * matrix[:, j]).reshape(-1, 1)\n",
        "                    X_poly = np.hstack((X_poly, interaction_term))\n",
        "\n",
        "w = np.zeros(X_poly.shape[1])\n",
        "b = 0\n",
        "l = 0.1\n",
        "alpha = 0.001\n",
        "y1 = np.zeros(32000)\n",
        "n = 1000\n",
        "j = np.zeros(n)\n",
        "\n",
        "for m in range(n):\n",
        "  y1 = np.dot(X_poly[:32000, :], w) + b\n",
        "  e = y1 - matrix[:32000, 5]\n",
        "  j[m] = (np.sum(e**2) / (2 * 32000)) + (l * np.sum(w**2))\n",
        "  dj_dw = (np.dot(e, X_poly[:32000, :]) / 32000) + 2 * l * w\n",
        "  dj_db = np.sum(e) / 32000\n",
        "  w -= alpha * dj_dw\n",
        "  b -= alpha * dj_db\n",
        "\n",
        "  if m % 100 == 0:\n",
        "    print(f\" {m}:    J: {j[m]} , w: {w[:5]}, b:{b}\")\n",
        "\n",
        "p = np.arange(n)\n",
        "plt.plot(p, j)\n",
        "plt.xlabel('Iterations')\n",
        "plt.ylabel('Cost (J)')\n",
        "plt.legend()\n",
        "plt.show()\n",
        "\n",
        "y1_cv = np.dot(X_poly[32000:, :], w) + b\n",
        "cv_cost = np.sum((y1_cv - matrix[32000:, 5])**2) / (2 * 16000) + (l * np.sum(w**2))\n",
        "print(f\"Cross-validation cost: {cv_cost}\")\n",
        "\n",
        "\n"
      ],
      "metadata": {
        "colab": {
          "base_uri": "https://localhost:8080/",
          "height": 864
        },
        "id": "wcFNkFmVLCGW",
        "outputId": "e5f95cf7-fd45-4999-d7cf-f3bbe916d36f"
      },
      "execution_count": 20,
      "outputs": [
        {
          "output_type": "stream",
          "name": "stdout",
          "text": [
            " 0:    J: 5.780208561722046e-17 , w: [1.27426155e-12 1.11783329e-13 1.45711394e-12 7.51134498e-13\n",
            " 1.51942507e-13], b:-2.918905689230291e-13\n",
            " 100:    J: 3.410403843492418e-17 , w: [ 6.50524416e-11 -6.87208488e-13  3.80224123e-11  2.01550130e-11\n",
            " -7.11557943e-13], b:-8.4207157839959e-12\n",
            " 200:    J: 2.75258485796024e-17 , w: [ 9.54608793e-11 -5.92159645e-12  3.49584664e-11  2.21325723e-11\n",
            " -6.83617681e-12], b:-8.612875268645663e-12\n",
            " 300:    J: 2.541220489581764e-17 , w: [ 1.20461512e-10 -1.09479459e-11  3.03673167e-11  2.38544184e-11\n",
            " -1.30774711e-11], b:-8.975475313780262e-12\n",
            " 400:    J: 2.469184904301178e-17 , w: [ 1.42851812e-10 -1.56213251e-11  2.56392128e-11  2.55687414e-11\n",
            " -1.91446686e-11], b:-9.648051084657829e-12\n",
            " 500:    J: 2.4422972738791514e-17 , w: [ 1.63390402e-10 -1.99816704e-11  2.09575351e-11  2.72425118e-11\n",
            " -2.49628030e-11], b:-1.052911077331874e-11\n",
            " 600:    J: 2.430628703482715e-17 , w: [ 1.82448646e-10 -2.40695370e-11  1.63895374e-11  2.88577010e-11\n",
            " -3.05142544e-11], b:-1.155552314702293e-11\n",
            " 700:    J: 2.4243396622545087e-17 , w: [ 2.00241767e-10 -2.79172384e-11  1.19607431e-11  3.04065424e-11\n",
            " -3.58038517e-11], b:-1.2690935095239458e-11\n",
            " 800:    J: 2.420088844290168e-17 , w: [ 2.16907796e-10 -3.15497799e-11  7.67810815e-12  3.18865499e-11\n",
            " -4.08443334e-11], b:-1.3913601087769218e-11\n",
            " 900:    J: 2.4167049509268885e-17 , w: [ 2.32544832e-10 -3.49866550e-11  3.54054386e-12  3.32979655e-11\n",
            " -4.56502988e-11], b:-1.5209729552201007e-11\n"
          ]
        },
        {
          "output_type": "stream",
          "name": "stderr",
          "text": [
            "WARNING:matplotlib.legend:No artists with labels found to put in legend.  Note that artists whose label start with an underscore are ignored when legend() is called with no argument.\n"
          ]
        },
        {
          "output_type": "display_data",
          "data": {
            "text/plain": [
              "<Figure size 640x480 with 1 Axes>"
            ],
            "image/png": "[encoded data removed]"
          },
          "metadata": {}
        },
        {
          "output_type": "stream",
          "name": "stdout",
          "text": [
            "Cross-validation cost: 2.3433546454543472e-17\n"
          ]
        }
      ]
    },
    {
      "cell_type": "code",
      "source": [
        "from google.colab import drive\n",
        "import pandas as pd\n",
        "import numpy as np\n",
        "from google.colab import drive\n",
        "drive.mount('/content/drive')\n",
        "file_path1='/content/drive/My Drive/datasets/polynomial_regression_test.csv'\n",
        "data1=pd.read_csv(file_path1)\n",
        "matrix1 = data1.iloc[:, 1:].values"
      ],
      "metadata": {
        "colab": {
          "base_uri": "https://localhost:8080/"
        },
        "id": "Omn2VuRbVaxd",
        "outputId": "1d997496-6a6e-4821-d94c-099138ac2000"
      },
      "execution_count": null,
      "outputs": [
        {
          "output_type": "stream",
          "name": "stdout",
          "text": [
            "Drive already mounted at /content/drive; to attempt to forcibly remount, call drive.mount(\"/content/drive\", force_remount=True).\n"
          ]
        }
      ]
    },
    {
      "cell_type": "code",
      "source": [
        "X_poly_test = gen_features(matrix1[:, :5], degree=5)\n",
        "y1_test = np.dot(X_poly_test, w) + b\n"
      ],
      "metadata": {
        "id": "8DtNbO4lVjKc"
      },
      "execution_count": null,
      "outputs": []
    }
  ]
}