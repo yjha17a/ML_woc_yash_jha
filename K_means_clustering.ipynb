{
  "nbformat": 4,
  "nbformat_minor": 0,
  "metadata": {
    "colab": {
      "provenance": []
    },
    "kernelspec": {
      "name": "python3",
      "display_name": "Python 3"
    },
    "language_info": {
      "name": "python"
    }
  },
  "cells": [
    {
      "cell_type": "code",
      "execution_count": null,
      "metadata": {
        "colab": {
          "base_uri": "https://localhost:8080/"
        },
        "id": "WrAaf9lZrZ2t",
        "outputId": "ae07c737-8521-411f-b0b7-d29c8e151f42"
      },
      "outputs": [
        {
          "output_type": "stream",
          "name": "stdout",
          "text": [
            "Mounted at /content/drive\n"
          ]
        }
      ],
      "source": [
        "from google.colab import drive\n",
        "import pandas as pd\n",
        "import numpy as np\n",
        "from google.colab import drive\n",
        "drive.mount('/content/drive')\n",
        "file_path='/content/drive/My Drive/datasets/unsupervised_data (2).csv'\n",
        "data=pd.read_csv(file_path)\n",
        "matrix = data.iloc[:, 1:].values"
      ]
    },
    {
      "cell_type": "code",
      "source": [
        "import numpy as np\n",
        "import matplotlib.pyplot as plt\n",
        "\n",
        "X = np.array(matrix)\n",
        "for r in range(X.shape[1]):\n",
        "  X[:, r] = (X[:, r] - np.mean(X[:, r])) / np.std(X[:, r])\n",
        "\n",
        "def kmeans(X, k, max_iter=100, seed=1):\n",
        "  if seed+1:\n",
        "    np.random.seed(seed)\n",
        "  centroids = X[np.random.choice(X.shape[0], k, replace=False)]\n",
        "\n",
        "  for _ in range(max_iter):\n",
        "    distances = np.sqrt(((X[:, np.newaxis] - centroids) ** 2).sum(axis=2))\n",
        "\n",
        "    labels = np.argmin(distances, axis=1)\n",
        "\n",
        "\n",
        "    new_centroids = np.array([\n",
        "      X[labels == i].mean(axis=0) if np.any(labels == i) else centroids[i]\n",
        "      for i in range(k)\n",
        "    ])\n",
        "\n",
        "    if np.allclose(centroids, new_centroids, atol=1e-4):\n",
        "      break\n",
        "\n",
        "    centroids = new_centroids\n",
        "\n",
        "\n",
        "  wcss = sum(np.sum((X[labels == i] - centroids[i]) ** 2) for i in range(k))\n",
        "  return centroids, labels, wcss\n",
        "\n",
        "def multifold_kmeans(X, k, n_folds=10, max_iter=100):\n",
        "  best_centroids = None\n",
        "  best_labels = None\n",
        "  best_wcss = float('inf')\n",
        "\n",
        "  for fold in range(n_folds):\n",
        "    centroids, labels, wcss = kmeans(X, k, max_iter, seed=fold)\n",
        "    if wcss < best_wcss:\n",
        "      best_wcss = wcss\n",
        "      best_labels = labels\n",
        "      best_centroids = centroids\n",
        "\n",
        "  return best_centroids, best_labels, best_wcss\n",
        "\n",
        "\n",
        "for k in range(1, 16):\n",
        "  best_centroids, best_labels, best_wcss = multifold_kmeans(X, k, n_folds=10, max_iter=100)\n",
        "  print(f\"Best WCSS for k={k}: {best_wcss}\")\n"
      ],
      "metadata": {
        "colab": {
          "base_uri": "https://localhost:8080/"
        },
        "id": "YmPgrrmqWTwL",
        "outputId": "4912fd55-00fb-446f-c01a-f32b9fe5065f"
      },
      "execution_count": null,
      "outputs": [
        {
          "output_type": "stream",
          "name": "stdout",
          "text": [
            "Best WCSS for k=1: 240000.0\n",
            "Best WCSS for k=2: 154874.15114342183\n",
            "Best WCSS for k=3: 105277.72120411889\n",
            "Best WCSS for k=4: 61805.662473229786\n",
            "Best WCSS for k=5: 32651.439918803644\n",
            "Best WCSS for k=6: 13389.876039813465\n",
            "Best WCSS for k=7: 6388.010965497643\n",
            "Best WCSS for k=8: 6241.985361776473\n",
            "Best WCSS for k=9: 6099.82274795597\n",
            "Best WCSS for k=10: 5952.72138811445\n",
            "Best WCSS for k=11: 5809.495535815292\n",
            "Best WCSS for k=12: 5668.593539777473\n",
            "Best WCSS for k=13: 5663.852271943992\n",
            "Best WCSS for k=14: 5519.309590673804\n",
            "Best WCSS for k=15: 5373.385996087657\n"
          ]
        }
      ]
    },
    {
      "cell_type": "markdown",
      "source": [
        "Best WCSS for k=2: 154874.15114342183\n",
        "Best WCSS for k=3: 105277.7212041189\n",
        "Best WCSS for k=4: 61805.66247322979\n",
        "Best WCSS for k=5: 32651.439918803648\n",
        "Best WCSS for k=6: 13389.876039813467\n",
        "Best WCSS for k=7: 6388.010965497643\n",
        "Best WCSS for k=8: 6238.435872266065\n",
        "Best WCSS for k=9: 6092.410574432229\n",
        "Best WCSS for k=10: 5949.184722133069\n"
      ],
      "metadata": {
        "id": "fK60yjUsWevv"
      }
    },
    {
      "cell_type": "markdown",
      "source": [
        "\n",
        "After k=7, the value of wcss decreases very slowly. hence, k=7 is the ideal value of k, with wcss= 6388. However, even after multiple initialisation, with other hyperparameters same, the elbow value of k varies between 7-9"
      ],
      "metadata": {
        "id": "5zRM0-cPVGpp"
      }
    }
  ]
}