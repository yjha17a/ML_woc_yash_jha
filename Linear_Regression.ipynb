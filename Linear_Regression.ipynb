{
  "nbformat": 4,
  "nbformat_minor": 0,
  "metadata": {
    "colab": {
      "provenance": []
    },
    "kernelspec": {
      "name": "python3",
      "display_name": "Python 3"
    },
    "language_info": {
      "name": "python"
    }
  },
  "cells": [
    {
      "cell_type": "code",
      "execution_count": null,
      "metadata": {
        "colab": {
          "base_uri": "https://localhost:8080/"
        },
        "id": "mNKkZPmmLbkR",
        "outputId": "f7f2a307-32d6-45fd-8fbc-ae15d781a868"
      },
      "outputs": [
        {
          "output_type": "stream",
          "name": "stdout",
          "text": [
            "Mounted at /content/drive\n"
          ]
        }
      ],
      "source": [
        "from google.colab import drive\n",
        "import pandas as pd\n",
        "import numpy as np\n",
        "from google.colab import drive\n",
        "drive.mount('/content/drive')\n",
        "file_path='/content/drive/My Drive/datasets/linear_regression_train.csv'\n",
        "data=pd.read_csv(file_path)\n",
        "matrix = data.iloc[:, 1:].values"
      ]
    },
    {
      "cell_type": "code",
      "source": [
        "import matplotlib.pyplot as plt\n",
        "for r in range (25):\n",
        "  matrix[:, r]= (matrix[:,r]-np.mean(matrix[:,r]))/(np.std(matrix[:,r]))\n",
        "\n",
        "w=np.ones(25)\n",
        "b=1\n",
        "l=0.00001\n",
        "alp=1.88\n",
        "y1=np.zeros(32000)\n",
        "n=2000\n",
        "j=np.zeros(n)\n",
        "for m in range(n):\n",
        "    y1 = np.dot(matrix[:32000,:25], w)+b\n",
        "    e=y1-matrix[:32000, 25]\n",
        "    j[m] = (np.sum(e**2) / (2 * 32000)) + (l * np.sum(w**2))\n",
        "    dj_dw = (np.dot(e, matrix[:32000, :25]) / 32000) + 2*l*w\n",
        "    dj_db = np.sum(e) / 32000\n",
        "    w-=alp * dj_dw\n",
        "    b-=alp * dj_db\n",
        "\n",
        "    if m%100==0:\n",
        "        print(f\"{m}     J: {j[m]} , w: {w[:5]}, b:{b}\")\n",
        "p=np.zeros(n)\n",
        "for i in range(n):\n",
        "   p[i]=i\n",
        "plt.plot(p,j)\n",
        "plt.legend()\n",
        "plt.show()\n",
        "\n",
        "y1_cv=np.dot(matrix[32000:,:25], w)+b\n",
        "print(np.sum((y1_cv-matrix[32000:,25])**2)/(2*16000)+ (l*np.sum(w**2)) )"
      ],
      "metadata": {
        "colab": {
          "base_uri": "https://localhost:8080/",
          "height": 1000
        },
        "id": "4lcCssJHLj67",
        "outputId": "6c2f5c14-2890-488c-b847-0b4f9131880d"
      },
      "execution_count": null,
      "outputs": [
        {
          "output_type": "stream",
          "name": "stdout",
          "text": [
            "0     J: 3106268.92086121 , w: [ 230.97238625   34.81491254  987.28923083 1353.74832775   19.91074522], b:2362.3227735011624\n",
            "100     J: 97052.78616620382 , w: [156.79682443  31.3082016  571.37890248 738.8509003   18.71437342], b:1257.5045716267146\n",
            "200     J: 76717.66274334087 , w: [149.31233991  21.1799631  555.84903889 736.74916203  12.67616573], b:1254.2853008271081\n",
            "300     J: 66974.65032635609 , w: [143.68349869  14.54281913 545.56880738 735.97510474   8.82204917], b:1251.9721359118246\n",
            "400     J: 62305.895460875974 , w: [139.77586182   9.95297129 538.46117353 735.45321794   6.15888951], b:1250.3693287844626\n",
            "500     J: 60068.67422077014 , w: [137.07062294   6.77579213 533.54118573 735.09223003   4.31544599], b:1249.259782836669\n",
            "600     J: 58996.619888974375 , w: [135.19795553   4.57643705 530.13539837 734.84234702   3.03935056], b:1248.491715150537\n",
            "700     J: 58482.90203679282 , w: [133.90162838   3.05396519 527.77779118 734.66936922   2.1559919 ], b:1247.9600313446026\n",
            "800     J: 58236.73351359126 , w: [133.00426457   2.00005596 526.14577155 734.54962783   1.54449959], b:1247.5919808853064\n",
            "900     J: 58118.771987516346 , w: [132.3830774    1.27050247 525.01602946 734.46673858   1.12120285], b:1247.3372032542982\n",
            "1000     J: 58062.24598876986 , w: [131.95306952   0.76547958 524.23398177 734.40935969   0.82818177], b:1247.1608371076957\n",
            "1100     J: 58035.159288210736 , w: [1.31655403e+02 4.15884750e-01 5.23692621e+02 7.34369640e+02\n",
            " 6.25342150e-01], b:1247.0387501821513\n",
            "1200     J: 58022.179608710154 , w: [1.31449347e+02 1.73882764e-01 5.23317871e+02 7.34342145e+02\n",
            " 4.84929342e-01], b:1246.9542372658348\n",
            "1300     J: 58015.95987443244 , w: [1.31306708e+02 6.36037388e-03 5.23058456e+02 7.34323111e+02\n",
            " 3.87730598e-01], b:1246.8957344163894\n",
            "1400     J: 58012.979439169496 , w: [ 1.31207968e+02 -1.09604589e-01  5.22878880e+02  7.34309936e+02\n",
            "  3.20446167e-01], b:1246.855236661225\n",
            "1500     J: 58011.55124401514 , w: [ 1.31139617e+02 -1.89879664e-01  5.22754571e+02  7.34300815e+02\n",
            "  2.73869488e-01], b:1246.827202673327\n",
            "1600     J: 58010.86686699673 , w: [ 1.31092302e+02 -2.45448930e-01  5.22668519e+02  7.34294502e+02\n",
            "  2.41627453e-01], b:1246.8077965488576\n",
            "1700     J: 58010.53892028586 , w: [ 1.31059549e+02 -2.83915953e-01  5.22608952e+02  7.34290131e+02\n",
            "  2.19308368e-01], b:1246.7943629386161\n",
            "1800     J: 58010.38177145959 , w: [ 1.31036876e+02 -3.10544197e-01  5.22567717e+02  7.34287106e+02\n",
            "  2.03858303e-01], b:1246.7850637153526\n",
            "1900     J: 58010.306467293456 , w: [ 1.31021181e+02 -3.28977215e-01  5.22539173e+02  7.34285011e+02\n",
            "  1.93163218e-01], b:1246.7786264619451\n"
          ]
        },
        {
          "output_type": "stream",
          "name": "stderr",
          "text": [
            "WARNING:matplotlib.legend:No artists with labels found to put in legend.  Note that artists whose label start with an underscore are ignored when legend() is called with no argument.\n"
          ]
        },
        {
          "output_type": "display_data",
          "data": {
            "text/plain": [
              "<Figure size 640x480 with 1 Axes>"
            ],
            "image/png": "[encoded data removed]"
          },
          "metadata": {}
        },
        {
          "output_type": "stream",
          "name": "stdout",
          "text": [
            "58232.085323678846\n"
          ]
        }
      ]
    },
    {
      "cell_type": "markdown",
      "source": [
        "Using Linear Regression with Normalisation as well as Regularisation, we can reduce the value of J to around 58000 in both the test set as well as the cross validation set\n"
      ],
      "metadata": {
        "id": "dNVSSVPg9i8I"
      }
    },
    {
      "cell_type": "code",
      "source": [
        "from google.colab import drive\n",
        "import pandas as pd\n",
        "import numpy as np\n",
        "from google.colab import drive\n",
        "drive.mount('/content/drive')\n",
        "file_path1='/content/drive/My Drive/datasets/linear_regression_test.csv'\n",
        "data1=pd.read_csv(file_path1)\n",
        "matrix1 = data1.iloc[:, 1:].values"
      ],
      "metadata": {
        "colab": {
          "base_uri": "https://localhost:8080/"
        },
        "id": "A6BaohFSR4VL",
        "outputId": "1f8cd838-9e83-4ff8-b228-8bbb0b39a7c5"
      },
      "execution_count": null,
      "outputs": [
        {
          "output_type": "stream",
          "name": "stdout",
          "text": [
            "Drive already mounted at /content/drive; to attempt to forcibly remount, call drive.mount(\"/content/drive\", force_remount=True).\n"
          ]
        }
      ]
    },
    {
      "cell_type": "code",
      "source": [
        "predictions= np.dot(matrix1[:,:25], w)+b"
      ],
      "metadata": {
        "id": "87JQmblKR_qP"
      },
      "execution_count": null,
      "outputs": []
    }
  ]
}