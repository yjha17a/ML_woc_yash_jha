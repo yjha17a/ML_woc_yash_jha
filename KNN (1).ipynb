{
  "cells": [
    {
      "cell_type": "code",
      "execution_count": null,
      "metadata": {
        "colab": {
          "base_uri": "https://localhost:8080/"
        },
        "id": "KOCS4YMLZImL",
        "outputId": "3f8c7bdd-9782-49fa-eea6-e1a2b5b2ef55"
      },
      "outputs": [
        {
          "output_type": "stream",
          "name": "stdout",
          "text": [
            "Mounted at /content/drive\n"
          ]
        }
      ],
      "source": [
        "from google.colab import drive\n",
        "import pandas as pd\n",
        "import numpy as np\n",
        "from google.colab import drive\n",
        "drive.mount('/content/drive')\n",
        "file_path='/content/drive/My Drive/datasets/binary_classification_train.csv'\n",
        "data=pd.read_csv(file_path)\n",
        "matrix = data.iloc[:, 1:].values"
      ]
    },
    {
      "cell_type": "code",
      "execution_count": null,
      "metadata": {
        "colab": {
          "base_uri": "https://localhost:8080/"
        },
        "id": "CawOreH01SQ4",
        "outputId": "c1930274-a906-4488-d20a-d59a7d067f11"
      },
      "outputs": [
        {
          "output_type": "stream",
          "name": "stdout",
          "text": [
            "5\n",
            "0.9470625\n",
            "6\n",
            "0.9473125\n",
            "7\n",
            "0.948625\n",
            "8\n",
            "0.9480625\n",
            "9\n",
            "0.9488125\n",
            "10\n",
            "0.94875\n",
            "11\n",
            "0.949125\n",
            "12\n",
            "0.949125\n",
            "13\n",
            "0.949\n",
            "14\n",
            "0.949\n"
          ]
        }
      ],
      "source": [
        "for k in range(5,15):\n",
        "  X_train= np.array(matrix[:32000, :20])\n",
        "  y_train= np.array(matrix[:32000, 20])\n",
        "  X_test= np.array(matrix[32000:, :20])\n",
        "  y_test=np.array(matrix[32000:, 20])\n",
        "  prediction = np.zeros(len(X_test))\n",
        "  i = 0\n",
        "  c = 0\n",
        "  for x in X_test:\n",
        "      dists = np.linalg.norm(X_train - x, axis=1)\n",
        "      idxs = np.array(sorted(range(len(dists)), key=lambda i: dists[i])[:k])\n",
        "      labels = np.array([y_train[i] for i in idxs])\n",
        "      counts = {}\n",
        "      for l in labels:\n",
        "          counts[l]=counts.get(l, 0) + 1\n",
        "      prediction[i]=max(counts, key=counts.get)\n",
        "\n",
        "      if prediction[i]==y_test[i]:\n",
        "          c+=1\n",
        "      i+=1\n",
        "\n",
        "  accuracy = c/len(X_test)\n",
        "  print(k)\n",
        "  print(accuracy)"
      ]
    },
    {
      "cell_type": "markdown",
      "metadata": {
        "id": "BN0tRVVMFhc3"
      },
      "source": [
        "4: 94.15,\n",
        "5:\n",
        "0.9470625,\n",
        "6:\n",
        "0.9473125,\n",
        "7:\n",
        "0.948625,\n",
        "8:\n",
        "0.9480625,\n",
        "9:\n",
        "0.9488125,\n",
        "10:\n",
        "0.94875,\n",
        "11:\n",
        "0.949125,\n",
        "12:\n",
        "0.949125,\n",
        "13:\n",
        "0.949,\n",
        "14:\n",
        "0.949,\n",
        "15:\n",
        "0.948875,\n",
        "\n",
        "\n",
        "\n"
      ]
    },
    {
      "cell_type": "markdown",
      "metadata": {
        "id": "sdVcWwiUtxQ0"
      },
      "source": [
        "On changing value of K, as well as selecting different subsets of the dataset, the accuracy remains around 92%-93% with K>2, and 10k training and test data.\n",
        "\n",
        "with 32k training data and 16k test data, accuracy goes upto 94.9% at k>10"
      ]
    },
    {
      "cell_type": "code",
      "execution_count": null,
      "metadata": {
        "id": "OrriHWSA9Y_c"
      },
      "outputs": [],
      "source": [
        "#predictions\n",
        "drive.mount('/content/drive')\n",
        "file_path='/content/drive/My Drive/datasets/binary_classification_test.csv'\n",
        "data=pd.read_csv(file_path)\n",
        "matrix1 = data.iloc[:, 1:].values\n",
        "X_train= np.array(matrix[:, :20])\n",
        "y_train= np.array(matrix[:, 20])\n",
        "X_test= np.array(matrix[:, :20])\n",
        "\n",
        "prediction = np.zeros(len(X_test))\n",
        "i = 0\n",
        "c = 0\n",
        "for x in X_test:\n",
        "  dists = np.linalg.norm(X_train - x, axis=1)\n",
        "  idxs = np.array(sorted(range(len(dists)), key=lambda i: dists[i])[:k])\n",
        "  labels = np.array([y_train[i] for i in idxs])\n",
        "  counts = {}\n",
        "  for l in labels:\n",
        "    counts[l]=counts.get(l, 0) + 1\n",
        "    prediction[i]=max(counts, key=counts.get)\n",
        "\n",
        "\n",
        "\n"
      ]
    }
  ],
  "metadata": {
    "colab": {
      "provenance": []
    },
    "kernelspec": {
      "display_name": "Python 3",
      "name": "python3"
    },
    "language_info": {
      "name": "python"
    }
  },
  "nbformat": 4,
  "nbformat_minor": 0
}