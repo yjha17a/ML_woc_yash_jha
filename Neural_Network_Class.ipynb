{
  "nbformat": 4,
  "nbformat_minor": 0,
  "metadata": {
    "colab": {
      "provenance": []
    },
    "kernelspec": {
      "name": "python3",
      "display_name": "Python 3"
    },
    "language_info": {
      "name": "python"
    }
  },
  "cells": [
    {
      "cell_type": "code",
      "execution_count": null,
      "metadata": {
        "colab": {
          "base_uri": "https://localhost:8080/"
        },
        "id": "2eekLd9-B3L9",
        "outputId": "268efdf4-1b0a-40dc-ef01-b7c8d3ad8cc2"
      },
      "outputs": [
        {
          "output_type": "stream",
          "name": "stdout",
          "text": [
            "Drive already mounted at /content/drive; to attempt to forcibly remount, call drive.mount(\"/content/drive\", force_remount=True).\n"
          ]
        }
      ],
      "source": [
        "from google.colab import drive\n",
        "import pandas as pd\n",
        "import numpy as np\n",
        "from google.colab import drive\n",
        "drive.mount('/content/drive')\n",
        "file_path='/content/drive/My Drive/datasets/nn_train.csv'\n",
        "data=pd.read_csv(file_path)\n",
        "matrix = data.iloc[:, 1:].values\n",
        "matrix1=matrix"
      ]
    },
    {
      "cell_type": "code",
      "source": [
        "import numpy as np\n",
        "for r in range (1024):\n",
        "  matrix[:, r]= (matrix[:,r]-np.mean(matrix[:,r]))/(np.std(matrix[:,r]))\n",
        "def sigmoid(z):\n",
        "  return 1 / (1 + np.exp(-z))\n",
        "\n",
        "def relu(z):\n",
        "  return np.maximum(0, z)\n",
        "\n",
        "def model(X, Y, hidden_units, num_iterations, learning_rate):\n",
        "  np.random.seed(1)\n",
        "  n_x = X.shape[0]\n",
        "  n_y = Y.shape[0]\n",
        "\n",
        "\n",
        "  W1 = np.random.randn(hidden_units[0], n_x) * 0.01\n",
        "  b1 = np.zeros((hidden_units[0], 1))\n",
        "  W2 = np.random.randn(hidden_units[1], hidden_units[0]) * 0.01\n",
        "  b2 = np.zeros((hidden_units[1], 1))\n",
        "  W3 = np.random.randn(hidden_units[2], hidden_units[1]) * 0.01\n",
        "  b3 = np.zeros((hidden_units[2], 1))\n",
        "  W4 = np.random.randn(n_y, hidden_units[2]) * 0.01\n",
        "  b4 = np.zeros((n_y, 1))\n",
        "\n",
        "  for i in range(num_iterations):\n",
        "\n",
        "    Z1 = np.dot(W1, X) + b1\n",
        "    A1 = relu(Z1)\n",
        "    Z2 = np.dot(W2, A1) + b2\n",
        "    A2 = relu(Z2)\n",
        "    Z3 = np.dot(W3, A2) + b3\n",
        "    A3 = relu(Z3)\n",
        "    Z4 = np.dot(W4, A3) + b4\n",
        "    A4 = softmax(Z4)\n",
        "\n",
        "        # Compute cost (categorical cross-entropy loss)\n",
        "    m = Y.shape[1]\n",
        "    cost = -np.sum(Y * np.log(A4)) / m\n",
        "    lambda_reg = 0.01\n",
        "    cost += (lambda_reg / (2 * m)) * (np.sum(np.square(W1)) + np.sum(np.square(W2)) + np.sum(np.square(W3)) + np.sum(np.square(W4)))\n",
        "\n",
        "    dZ4 = A4 - Y\n",
        "    dW4 = (1 / m) * np.dot(dZ4, A3.T)\n",
        "    db4 = (1 / m) * np.sum(dZ4, axis=1, keepdims=True)\n",
        "\n",
        "    dA3 = np.dot(W4.T, dZ4)\n",
        "    dZ3 = dA3 * (Z3 > 0)\n",
        "    dW3 = (1 / m) * np.dot(dZ3, A2.T)\n",
        "    db3 = (1 / m) * np.sum(dZ3, axis=1, keepdims=True)\n",
        "\n",
        "    dA2 = np.dot(W3.T, dZ3)\n",
        "    dZ2 = dA2 * (Z2 > 0)\n",
        "    dW2 = (1 / m) * np.dot(dZ2, A1.T)\n",
        "    db2 = (1 / m) * np.sum(dZ2, axis=1, keepdims=True)\n",
        "\n",
        "    dA1 = np.dot(W2.T, dZ2)\n",
        "    dZ1 = dA1 * (Z1 > 0)\n",
        "    dW1 = (1 / m) * np.dot(dZ1, X.T)\n",
        "    db1 = (1 / m) * np.sum(dZ1, axis=1, keepdims=True)\n",
        "\n",
        "\n",
        "    W1 -= learning_rate * dW1\n",
        "    b1 -= learning_rate * db1\n",
        "    W2 -= learning_rate * dW2\n",
        "    b2 -= learning_rate * db2\n",
        "    W3 -= learning_rate * dW3\n",
        "    b3 -= learning_rate * db3\n",
        "    W4 -= learning_rate * dW4\n",
        "    b4 -= learning_rate * db4\n",
        "\n",
        "    if i % 1000 == 0:\n",
        "      print(f\"Iteration {i}, Cost: {cost:.4f}\")\n",
        "\n",
        "  return {\"W1\": W1, \"b1\": b1, \"W2\": W2, \"b2\": b2, \"W3\": W3, \"b3\": b3, \"W4\": W4, \"b4\": b4}\n",
        "\n",
        "def softmax(z):\n",
        "  exp_z = np.exp(z - np.max(z, axis=0, keepdims=True))  # For numerical stability\n",
        "  return exp_z / np.sum(exp_z, axis=0, keepdims=True)\n",
        "\n",
        "def predict(X, parameters):\n",
        "  W1, b1, W2, b2, W3, b3, W4, b4 = parameters[\"W1\"], parameters[\"b1\"], parameters[\"W2\"], parameters[\"b2\"], parameters[\"W3\"], parameters[\"b3\"], parameters[\"W4\"], parameters[\"b4\"]\n",
        "  Z1 = np.dot(W1, X) + b1\n",
        "  A1 = relu(Z1)\n",
        "  Z2 = np.dot(W2, A1) + b2\n",
        "  A2 = relu(Z2)\n",
        "  Z3 = np.dot(W3, A2) + b3\n",
        "  A3 = relu(Z3)\n",
        "  Z4 = np.dot(W4, A3) + b4\n",
        "  A4 = softmax(Z4)\n",
        "  return np.argmax(A4, axis=0)\n",
        "\n",
        "\n",
        "\n",
        "\n",
        "\n",
        "X = np.array(matrix[:32000, :1024])\n",
        "Y = np.array(matrix[:32000, 1025]).astype(int) - 1\n",
        "X_test = np.array(matrix[32000:, :1024])\n",
        "Y_test = np.array(matrix[32000:, 1025]).astype(int) - 1\n",
        "\n",
        "X = (X - np.mean(X, axis=0)) / np.std(X, axis=0)\n",
        "X_test = (X_test - np.mean(X_test, axis=0)) / np.std(X_test, axis=0)\n",
        "\n",
        "\n",
        "X_test = X_test.T\n",
        "\n",
        "\n",
        "Y_one_hot = np.zeros((10, Y.shape[0]))\n",
        "Y_one_hot[Y, np.arange(Y.shape[0])] = 1\n",
        "\n",
        "\n",
        "hidden_units = [32, 16, 64]\n",
        "trained_parameters = model(X.T, Y_one_hot, hidden_units=hidden_units, num_iterations=10000, learning_rate=0.1)\n",
        "\n",
        "predictions = predict(X_test, trained_parameters)\n",
        "accuracy = np.mean(predictions == Y_test) * 100\n",
        "print(f\"Accuracy: {accuracy:.2f}%\")\n",
        "\n",
        "\n"
      ],
      "metadata": {
        "colab": {
          "base_uri": "https://localhost:8080/"
        },
        "id": "pIh6dHWk5LZy",
        "outputId": "f30472b3-c0f1-4fcd-a32b-99e8de5fe260"
      },
      "execution_count": null,
      "outputs": [
        {
          "output_type": "stream",
          "name": "stdout",
          "text": [
            "Iteration 0, Cost: 2.3026\n",
            "Iteration 1000, Cost: 2.3025\n",
            "Iteration 2000, Cost: 2.3024\n",
            "Iteration 3000, Cost: 2.0487\n",
            "Iteration 4000, Cost: 1.6833\n",
            "Iteration 5000, Cost: 1.4327\n",
            "Iteration 6000, Cost: 1.2430\n",
            "Iteration 7000, Cost: 1.2360\n",
            "Iteration 8000, Cost: 1.0757\n",
            "Iteration 9000, Cost: 0.9045\n",
            "Accuracy: 34.23%\n"
          ]
        }
      ]
    },
    {
      "cell_type": "code",
      "source": [
        "import matplotlib.pyplot as plt\n",
        "\n",
        "\n",
        "\n",
        "\n",
        "Xn = matrix1[:,:-2]\n",
        "r=2\n",
        "test= Xn[r+1,:]\n",
        "\n",
        "image = test.reshape(32,32)\n",
        "plt.figure(figsize=(4,4))\n",
        "plt.imshow(image, cmap=\"gray\")\n",
        "plt.axis('off')\n",
        "plt.show()\n",
        "print(matrix[r, 1024])"
      ],
      "metadata": {
        "colab": {
          "base_uri": "https://localhost:8080/",
          "height": 363
        },
        "id": "HbaIX64RACRM",
        "outputId": "f7a0a011-54d4-4e92-df41-76dadeba32cb"
      },
      "execution_count": null,
      "outputs": [
        {
          "output_type": "display_data",
          "data": {
            "text/plain": [
              "<Figure size 400x400 with 1 Axes>"
            ],
            "image/png": "[encoded data removed]"
          },
          "metadata": {}
        },
        {
          "output_type": "stream",
          "name": "stdout",
          "text": [
            "0\n"
          ]
        }
      ]
    },
    {
      "cell_type": "code",
      "source": [
        "drive.mount('/content/drive')\n",
        "file_path='/content/drive/My Drive/datasets/nn_test.csv'\n",
        "data=pd.read_csv(file_path)\n",
        "matrix_test = data.iloc[:, 1:].values\n",
        "\n",
        "\n",
        "preds = predict(matrix_test.T, trained_parameters)"
      ],
      "metadata": {
        "colab": {
          "base_uri": "https://localhost:8080/"
        },
        "id": "pxorpTrls_K6",
        "outputId": "12f4d078-c4ec-462c-aa3b-281f867ad770"
      },
      "execution_count": null,
      "outputs": [
        {
          "output_type": "stream",
          "name": "stdout",
          "text": [
            "Drive already mounted at /content/drive; to attempt to forcibly remount, call drive.mount(\"/content/drive\", force_remount=True).\n"
          ]
        }
      ]
    }
  ]
}