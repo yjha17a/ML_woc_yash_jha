{
  "cells": [
    {
      "cell_type": "code",
      "execution_count": null,
      "metadata": {
        "colab": {
          "base_uri": "https://localhost:8080/"
        },
        "id": "2eekLd9-B3L9",
        "outputId": "e2592243-933b-4cc9-e28d-8c8388ca112b"
      },
      "outputs": [
        {
          "output_type": "stream",
          "name": "stdout",
          "text": [
            "Mounted at /content/drive\n"
          ]
        }
      ],
      "source": [
        "from google.colab import drive\n",
        "import pandas as pd\n",
        "import numpy as np\n",
        "from google.colab import drive\n",
        "drive.mount('/content/drive')\n",
        "file_path='/content/drive/My Drive/datasets/nn_train.csv'\n",
        "data=pd.read_csv(file_path)\n",
        "matrix = data.iloc[:, 1:].values"
      ]
    },
    {
      "cell_type": "code",
      "source": [
        "import numpy as np\n",
        "#for r in range (1024):\n",
        "#  matrix[:, r]= (matrix[:,r]-np.mean(matrix[:,r]))/(np.std(matrix[:,r]))\n",
        "def sigmoid(z):\n",
        "  return 1 / (1 + np.exp(-z))\n",
        "\n",
        "def relu(z):\n",
        "  return np.maximum(0, z)\n",
        "\n",
        "def model(X, Y, hidden_units, num_iterations, learning_rate):\n",
        "  np.random.seed(1)\n",
        "  n_x = X.shape[0]\n",
        "  n_y = Y.shape[0]\n",
        "\n",
        "  W1 = np.random.randn(hidden_units[0], n_x) * 0.01\n",
        "  b1 = np.zeros((hidden_units[0], 1))\n",
        "  W2 = np.random.randn(hidden_units[1], hidden_units[0]) * 0.01\n",
        "  b2 = np.zeros((hidden_units[1], 1))\n",
        "  W3 = np.random.randn(hidden_units[2], hidden_units[1]) * 0.01\n",
        "  b3 = np.zeros((hidden_units[2], 1))\n",
        "  W4 = np.random.randn(n_y, hidden_units[2]) * 0.01\n",
        "  b4 = np.zeros((n_y, 1))\n",
        "\n",
        "  for i in range(num_iterations):\n",
        "    Z1 = np.dot(W1, X) + b1\n",
        "    A1 = relu(Z1)\n",
        "    Z2 = np.dot(W2, A1) + b2\n",
        "    A2 = relu(Z2)\n",
        "    Z3 = np.dot(W3, A2) + b3\n",
        "    A3 = relu(Z3)\n",
        "    Z4 = np.dot(W4, A3) + b4\n",
        "    A4 = sigmoid(Z4)\n",
        "\n",
        "    m = Y.shape[1]\n",
        "    log_probs = -np.multiply(Y, np.log(A4)) - np.multiply(1 - Y, np.log(1 - A4))\n",
        "    cost = (1 / m) * np.sum(log_probs)\n",
        "    #lambda_reg = 0.01\n",
        "    #cost += (lambda_reg / (2 * m)) * (np.sum(np.square(W1)) + np.sum(np.square(W2)) + np.sum(np.square(W3)) + np.sum(np.square(W4)))\n",
        "\n",
        "    dZ4 = A4 - Y\n",
        "    dW4 = (1 / m) * np.dot(dZ4, A3.T)\n",
        "    db4 = (1 / m) * np.sum(dZ4, axis=1, keepdims=True)\n",
        "\n",
        "    dA3 = np.dot(W4.T, dZ4)\n",
        "    dZ3 = dA3 * (Z3 > 0)\n",
        "    dW3 = (1 / m) * np.dot(dZ3, A2.T)\n",
        "    db3 = (1 / m) * np.sum(dZ3, axis=1, keepdims=True)\n",
        "\n",
        "    dA2 = np.dot(W3.T, dZ3)\n",
        "    dZ2 = dA2 * (Z2 > 0)\n",
        "    dW2 = (1 / m) * np.dot(dZ2, A1.T)\n",
        "    db2 = (1 / m) * np.sum(dZ2, axis=1, keepdims=True)\n",
        "\n",
        "    dA1 = np.dot(W2.T, dZ2)\n",
        "    dZ1 = dA1 * (Z1 > 0)\n",
        "    dW1 = (1 / m) * np.dot(dZ1, X.T)\n",
        "    db1 = (1 / m) * np.sum(dZ1, axis=1, keepdims=True)\n",
        "\n",
        "    W1 -= learning_rate * dW1\n",
        "    b1 -= learning_rate * db1\n",
        "    W2 -= learning_rate * dW2\n",
        "    b2 -= learning_rate * db2\n",
        "    W3 -= learning_rate * dW3\n",
        "    b3 -= learning_rate * db3\n",
        "    W4 -= learning_rate * dW4\n",
        "    b4 -= learning_rate * db4\n",
        "\n",
        "    if i % 1000 == 0:\n",
        "      print(f\"Iteration {i}, Cost: {cost:.4f}\")\n",
        "\n",
        "  return {\"W1\": W1, \"b1\": b1, \"W2\": W2, \"b2\": b2, \"W3\": W3, \"b3\": b3, \"W4\": W4, \"b4\": b4}\n",
        "\n",
        "def predict(X, parameters):\n",
        "  W1, b1, W2, b2, W3, b3, W4, b4 = parameters[\"W1\"], parameters[\"b1\"], parameters[\"W2\"], parameters[\"b2\"], parameters[\"W3\"], parameters[\"b3\"], parameters[\"W4\"], parameters[\"b4\"]\n",
        "  Z1 = np.dot(W1, X) + b1\n",
        "  A1 = relu(Z1)\n",
        "  Z2 = np.dot(W2, A1) + b2\n",
        "  A2 = relu(Z2)\n",
        "  Z3 = np.dot(W3, A2) + b3\n",
        "  A3 = relu(Z3)\n",
        "  Z4 = np.dot(W4, A3) + b4\n",
        "  A4 = sigmoid(Z4)\n",
        "  return (A4 > 0.5).astype(int)\n",
        "\n",
        "np.random.seed(1)\n",
        "X = matrix[32000:, :1024].T\n",
        "Y = matrix[32000:, 1024:1025].reshape(1, -1)\n",
        "X_test = matrix[:32000:, :1024].T\n",
        "Y_test = matrix[:32000:, 1024:1025].reshape(1, -1)\n",
        "\n",
        "\n",
        "\n",
        "hidden_units = [16, 8, 4]\n",
        "trained_parameters = model(X, Y, hidden_units=hidden_units, num_iterations=10000, learning_rate=0.01)\n",
        "\n",
        "predictions = predict(X_test, trained_parameters)\n",
        "accuracy = np.mean(predictions == Y_test) * 100\n",
        "print(f\"Accuracy: {accuracy:.2f}%\")\n",
        "\n",
        "\n"
      ],
      "metadata": {
        "colab": {
          "base_uri": "https://localhost:8080/"
        },
        "id": "Z3S-msWD1yy_",
        "outputId": "a1e7d0e9-7042-4726-eacb-4e86dc182213"
      },
      "execution_count": null,
      "outputs": [
        {
          "output_type": "stream",
          "name": "stdout",
          "text": [
            "Iteration 0, Cost: 0.6931\n",
            "Iteration 1000, Cost: 0.6930\n",
            "Iteration 2000, Cost: 0.6484\n",
            "Iteration 3000, Cost: 0.6173\n",
            "Iteration 4000, Cost: 0.5905\n",
            "Iteration 5000, Cost: 0.5748\n",
            "Iteration 6000, Cost: 0.5614\n",
            "Iteration 7000, Cost: 0.5507\n",
            "Iteration 8000, Cost: 0.5421\n",
            "Iteration 9000, Cost: 0.5320\n",
            "Accuracy: 70.90%\n"
          ]
        }
      ]
    },
    {
      "cell_type": "code",
      "source": [
        "drive.mount('/content/drive')\n",
        "file_path='/content/drive/My Drive/datasets/nn_test.csv'\n",
        "data=pd.read_csv(file_path)\n",
        "matrix_test = data.iloc[:, 1:].values\n",
        "\n",
        "\n",
        "preds = predict(matrix_test.T, trained_parameters)"
      ],
      "metadata": {
        "id": "6TLv4c9xtq_S"
      },
      "execution_count": null,
      "outputs": []
    }
  ],
  "metadata": {
    "colab": {
      "provenance": []
    },
    "kernelspec": {
      "display_name": "Python 3",
      "name": "python3"
    },
    "language_info": {
      "name": "python"
    }
  },
  "nbformat": 4,
  "nbformat_minor": 0
}