{
  "nbformat": 4,
  "nbformat_minor": 0,
  "metadata": {
    "colab": {
      "provenance": []
    },
    "kernelspec": {
      "name": "python3",
      "display_name": "Python 3"
    },
    "language_info": {
      "name": "python"
    }
  },
  "cells": [
    {
      "cell_type": "code",
      "execution_count": null,
      "metadata": {
        "colab": {
          "base_uri": "https://localhost:8080/"
        },
        "id": "aHrs8sN80edg",
        "outputId": "f71f9706-cb72-40b6-d6e3-54d188453647"
      },
      "outputs": [
        {
          "output_type": "stream",
          "name": "stdout",
          "text": [
            "Mounted at /content/drive\n"
          ]
        }
      ],
      "source": [
        "from google.colab import drive\n",
        "import pandas as pd\n",
        "import numpy as np\n",
        "from google.colab import drive\n",
        "drive.mount('/content/drive')\n",
        "file_path='/content/drive/My Drive/datasets/multi_classification_train.csv'\n",
        "data=pd.read_csv(file_path)\n",
        "matrix = data.iloc[:, 1:].values"
      ]
    },
    {
      "cell_type": "code",
      "source": [
        "import numpy as np\n",
        "import pandas as pd\n",
        "import matplotlib.pyplot as plt\n",
        "\n",
        "def fit_decision_tree(X, y, max_depth=None):\n",
        "  n_classes = len(np.unique(y))\n",
        "  n_features = X.shape[1]\n",
        "  tree = build_tree(X, y, max_depth, depth=0)\n",
        "  return tree\n",
        "\n",
        "def predict_decision_tree(X, tree):\n",
        "  return np.array([predict(inputs, tree) for inputs in X])\n",
        "\n",
        "def build_tree(X, y, max_depth, depth):\n",
        "  n_samples, n_features = X.shape\n",
        "  n_labels = len(np.unique(y))\n",
        "\n",
        "  if depth == max_depth or n_labels == 1 or n_samples < 2:\n",
        "    return {\"value\": majority_class(y)}\n",
        "\n",
        "  feature, threshold = best_split(X, y)\n",
        "  if feature is None:\n",
        "    return {\"value\": majority_class(y)}\n",
        "\n",
        "  left_idxs = X[:, feature] <= threshold\n",
        "  right_idxs = X[:, feature] > threshold\n",
        "  left_child = build_tree(X[left_idxs], y[left_idxs], max_depth, depth + 1)\n",
        "  right_child = build_tree(X[right_idxs], y[right_idxs], max_depth, depth + 1)\n",
        "  return {\"feature\": feature, \"threshold\": threshold, \"left\": left_child, \"right\": right_child}\n",
        "\n",
        "def best_split(X, y):\n",
        "  best_gain = -1\n",
        "  best_feature, best_threshold = None, None\n",
        "  for feature in range(X.shape[1]):\n",
        "    sorted_indices = np.argsort(X[:, feature])\n",
        "    sorted_X = X[sorted_indices, feature]\n",
        "    sorted_y = y[sorted_indices]\n",
        "\n",
        "\n",
        "    thresholds = np.unique(sorted_X)\n",
        "    for threshold in thresholds:\n",
        "      gain = information_gain(sorted_X, sorted_y, threshold)\n",
        "      if gain > best_gain:\n",
        "        best_gain, best_feature, best_threshold = gain, feature, threshold\n",
        "  return best_feature, best_threshold\n",
        "\n",
        "def information_gain(X_column, y, threshold):\n",
        "  parent_entropy = entropy(y)\n",
        "  left_idxs = X_column <= threshold\n",
        "  right_idxs = X_column > threshold\n",
        "\n",
        "\n",
        "  left_y = y[left_idxs]\n",
        "  right_y = y[right_idxs]\n",
        "\n",
        "\n",
        "  if len(left_y) == 0 or len(right_y) == 0:\n",
        "    return 0\n",
        "\n",
        "  left_entropy = entropy(left_y)\n",
        "  right_entropy = entropy(right_y)\n",
        "  child_entropy = (len(left_y) / len(y)) * left_entropy + (len(right_y) / len(y)) * right_entropy\n",
        "\n",
        "  return parent_entropy - child_entropy\n",
        "\n",
        "def entropy(y):\n",
        "  y = y.astype(int)\n",
        "  proportions = np.bincount(y) / len(y)\n",
        "  return -np.sum([p * np.log2(p) for p in proportions if p > 0])\n",
        "\n",
        "def majority_class(y):\n",
        "  y = y.astype(int)\n",
        "  return np.bincount(y).argmax()\n",
        "\n",
        "def predict(inputs, tree):\n",
        "  if \"value\" in tree:\n",
        "    return tree[\"value\"]\n",
        "  feature, threshold = tree[\"feature\"], tree[\"threshold\"]\n",
        "  if inputs[feature] <= threshold:\n",
        "    return predict(inputs, tree[\"left\"])\n",
        "  else:\n",
        "    return predict(inputs, tree[\"right\"])\n",
        "\n",
        "X = np.array(matrix[:40000, :20])\n",
        "y = np.array(matrix[:40000, 20])\n",
        "\n",
        "tree = fit_decision_tree(X, y, max_depth=12)\n",
        "\n",
        "predictions = predict_decision_tree(np.array(matrix[40000:, :20]), tree)\n",
        "accuracy = np.mean(predictions == matrix[40000:, 20])\n",
        "print(\"Accuracy:\", accuracy)\n",
        "\n"
      ],
      "metadata": {
        "colab": {
          "base_uri": "https://localhost:8080/"
        },
        "id": "iCR4zCVw19vy",
        "outputId": "0a1554ad-c0f6-4c62-c755-47f87463da52"
      },
      "execution_count": null,
      "outputs": [
        {
          "output_type": "stream",
          "name": "stdout",
          "text": [
            "Accuracy: 0.871875\n"
          ]
        }
      ]
    },
    {
      "cell_type": "markdown",
      "source": [
        "accuracy: 87.18% on taking 40k training dataset and testing on remaining 8k, with max depth 12"
      ],
      "metadata": {
        "id": "t6Nh-CnBiP4W"
      }
    },
    {
      "cell_type": "code",
      "source": [
        "predictions = predict_decision_tree(np.array(matrix[:, :20]), tree)\n",
        "accuracy = np.mean(predictions == matrix[:, 20])\n",
        "print(\"Accuracy:\", accuracy)"
      ],
      "metadata": {
        "colab": {
          "base_uri": "https://localhost:8080/"
        },
        "id": "oEANwuz5adwe",
        "outputId": "98667283-b285-4512-eda2-a2ae9fda9492"
      },
      "execution_count": null,
      "outputs": [
        {
          "output_type": "stream",
          "name": "stdout",
          "text": [
            "Accuracy: 0.9382291666666667\n"
          ]
        }
      ]
    },
    {
      "cell_type": "code",
      "source": [
        "drive.mount('/content/drive')\n",
        "file_path1='/content/drive/My Drive/datasets/multi_classification_test.csv'\n",
        "data1=pd.read_csv(file_path1)\n",
        "matrix1 = data1.iloc[:, 1:].values\n",
        "\n",
        "\n",
        "predictions = predict_decision_tree(np.array(matrix1[:, :20]), tree)\n",
        "print(predictions)"
      ],
      "metadata": {
        "colab": {
          "base_uri": "https://localhost:8080/"
        },
        "id": "HuT9iK_eigMJ",
        "outputId": "3e1367f8-1d5e-4300-dd60-42ebf26189b2"
      },
      "execution_count": null,
      "outputs": [
        {
          "output_type": "stream",
          "name": "stdout",
          "text": [
            "Drive already mounted at /content/drive; to attempt to forcibly remount, call drive.mount(\"/content/drive\", force_remount=True).\n",
            "[3 1 1 ... 3 4 1]\n"
          ]
        }
      ]
    }
  ]
}