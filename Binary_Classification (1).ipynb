{
  "nbformat": 4,
  "nbformat_minor": 0,
  "metadata": {
    "colab": {
      "provenance": []
    },
    "kernelspec": {
      "name": "python3",
      "display_name": "Python 3"
    },
    "language_info": {
      "name": "python"
    }
  },
  "cells": [
    {
      "cell_type": "code",
      "execution_count": null,
      "metadata": {
        "id": "2eekLd9-B3L9",
        "colab": {
          "base_uri": "https://localhost:8080/"
        },
        "outputId": "f00f3459-c9cf-4f63-c199-42dfe17bf130"
      },
      "outputs": [
        {
          "output_type": "stream",
          "name": "stdout",
          "text": [
            "Mounted at /content/drive\n"
          ]
        }
      ],
      "source": [
        "from google.colab import drive\n",
        "import pandas as pd\n",
        "import numpy as np\n",
        "from google.colab import drive\n",
        "drive.mount('/content/drive')\n",
        "file_path='/content/drive/My Drive/datasets/binary_classification_train.csv'\n",
        "data=pd.read_csv(file_path)\n",
        "matrix = data.iloc[:, 1:].values"
      ]
    },
    {
      "cell_type": "code",
      "source": [
        "import matplotlib.pyplot as plt\n",
        "import numpy as np\n",
        "matrix[:, :20] = (matrix[:, :20] - np.mean(matrix[:, :20], axis=0)) / np.std(matrix[:, :20], axis=0)\n",
        "\n",
        "\n",
        "w=np.zeros(20)\n",
        "b=1\n",
        "l=0.01\n",
        "alp=0.01\n",
        "y1 = np.zeros(32000)\n",
        "n = 3000\n",
        "j=np.zeros(n)\n",
        "\n",
        "def sigmoid(z):\n",
        "    return 1 / (1 + np.exp(-z))\n",
        "for m in range(n):\n",
        "    z=np.dot(matrix[:32000, :20], w) + b\n",
        "    y1=sigmoid(z)\n",
        "    e1=y1-matrix[:32000, 20]\n",
        "    j[m]=-np.sum(matrix[:32000, 20]*np.log(y1)+(1 - matrix[:32000, 20])*np.log(1-y1))/32000+l*np.sum(w**2)\n",
        "    dj_dw=np.dot(e1, matrix[:32000, :20])/32000+2*w*l\n",
        "    dj_db=np.sum(e1)/32000\n",
        "    w-=alp*dj_dw\n",
        "    b-=alp*dj_db\n",
        "    if m % 100 == 0:\n",
        "        print(f\" {m}: J:{j[m]}, w:{ w[:5]}, b: {b}\")\n",
        "\n",
        "p=np.zeros(n)\n",
        "for i in range(n):\n",
        "   p[i]=i\n",
        "plt.plot(p, j)\n",
        "plt.xlabel(\"Iteration\")\n",
        "plt.ylabel(\"Cost\")\n",
        "plt.legend([\"Cost Function\"])\n",
        "plt.show()\n",
        "\n",
        "y1_cv=sigmoid(np.dot(matrix[32000:,:20], w)+b)\n",
        "print(\"J_cv:\", -np.mean(matrix[32000:, 20]*np.log(y1_cv)+(1 - matrix[32000:, 20])*np.log(1-y1_cv)) + l*np.sum(w**2))\n",
        "\n",
        "\n",
        "y2_cv=sigmoid(np.dot(matrix[:,:20], w)+b)\n",
        "count=0\n",
        "for i in range(48000):\n",
        "  if y2_cv[i]>=0.5:\n",
        "    y2_cv[i]=1\n",
        "  else:\n",
        "    y2_cv[i]=0\n",
        "  if y2_cv[i]!=matrix[i, 20]:\n",
        "    count+=1\n",
        "print(\"accuracy:\" , 100-((count*100)/48000))\n"
      ],
      "metadata": {
        "colab": {
          "base_uri": "https://localhost:8080/",
          "height": 1000
        },
        "id": "tvD2KSaxp95v",
        "outputId": "411da85f-2a07-497d-9d72-00fe9acf913a"
      },
      "execution_count": null,
      "outputs": [
        {
          "output_type": "stream",
          "name": "stdout",
          "text": [
            " 0: J:0.992824187518223, w:[1.13670841e-05 7.92121390e-07 2.08206372e-05 2.21917172e-05\n",
            " 3.88505200e-05], b: 0.9958937892137\n",
            " 100: J:0.6721970706324245, w:[ 0.0011469  -0.0004028   0.00171518 -0.01306563  0.00292968], b: 0.6316945783968285\n",
            " 200: J:0.51993772031336, w:[ 0.00204615 -0.0012054   0.00298213 -0.03860006  0.00434457], b: 0.35674729979777703\n",
            " 300: J:0.440432014409775, w:[ 0.00267478 -0.00208094  0.00403782 -0.06501931  0.00498438], b: 0.14785861840870868\n",
            " 400: J:0.39456246773546433, w:[ 0.00311922 -0.00293019  0.00494831 -0.08972217  0.00523915], b: -0.016003508166500674\n",
            " 500: J:0.3658752522582998, w:[ 0.00344808 -0.00371991  0.00574214 -0.11242592  0.00529534], b: -0.1485037493471641\n",
            " 600: J:0.3467915944367202, w:[ 0.00370262 -0.00444039  0.00643742 -0.13331051  0.00524498], b: -0.25830175513867315\n",
            " 700: J:0.33348222452397785, w:[ 0.00390688 -0.00509111  0.00704806 -0.15260005  0.00513628], b: -0.35105647029702614\n",
            " 800: J:0.32385333120217663, w:[ 0.00407527 -0.00567524  0.00758543 -0.17048433  0.00499589], b: -0.4306130747976507\n",
            " 900: J:0.3166830413973116, w:[ 0.00421684 -0.00619741  0.00805911 -0.18711444  0.00483923], b: -0.49968186533553244\n",
            " 1000: J:0.31121900926327056, w:[ 0.00433755 -0.00666276  0.00847716 -0.20261134  0.00467554], b: -0.5602357540499862\n",
            " 1100: J:0.3069768222422444, w:[ 0.00444152 -0.00707644  0.00884652 -0.21707447  0.0045105 ], b: -0.6137514952354169\n",
            " 1200: J:0.3036326181584964, w:[ 0.00453176 -0.0074434   0.00917314 -0.23058798  0.00434767], b: -0.6613614764661674\n",
            " 1300: J:0.30096282967172827, w:[ 0.00461052 -0.00776832  0.00946217 -0.24322504  0.00418928], b: -0.7039524657863008\n",
            " 1400: J:0.29880883458887747, w:[ 0.00467955 -0.00805553  0.00971809 -0.25505059  0.00403673], b: -0.7422317841515267\n",
            " 1500: J:0.29705540381896317, w:[ 0.00474026 -0.00830901  0.00994481 -0.26612325  0.00389088], b: -0.7767728243312004\n",
            " 1600: J:0.29561711108592637, w:[ 0.00479382 -0.00853242  0.01014577 -0.27649648  0.00375222], b: -0.8080470950463439\n",
            " 1700: J:0.29442950331165135, w:[ 0.00484118 -0.00872905  0.01032397 -0.28621941  0.00362096], b: -0.836447248289857\n",
            " 1800: J:0.29344320850749067, w:[ 0.00488316 -0.00890192  0.01048207 -0.29533739  0.00349718], b: -0.8623039360832143\n",
            " 1900: J:0.2926199078938408, w:[ 0.00492046 -0.00905372  0.01062241 -0.30389241  0.00338081], b: -0.8858983595532095\n",
            " 2000: J:0.29192952159760904, w:[ 0.00495367 -0.00918689  0.01074705 -0.31192338  0.00327171], b: -0.9074717567890186\n",
            " 2100: J:0.2913482029544829, w:[ 0.0049833  -0.00930359  0.01085781 -0.31946637  0.00316968], b: -0.927232679993151\n",
            " 2200: J:0.29085688324381814, w:[ 0.0050098  -0.00940578  0.01095629 -0.32655482  0.00307447], b: -0.9453626524817882\n",
            " 2300: J:0.2904401986009023, w:[ 0.00503353 -0.00949517  0.01104393 -0.33321973  0.00298582], b: -0.9620206220444149\n",
            " 2400: J:0.2900856871800379, w:[ 0.00505484 -0.00957332  0.01112197 -0.33948979  0.00290342], b: -0.9773465085984928\n",
            " 2500: J:0.2897831806687406, w:[ 0.00507402 -0.00964157  0.01119152 -0.34539161  0.00282698], b: -0.9914640620277829\n",
            " 2600: J:0.2895243377460878, w:[ 0.0050913  -0.00970115  0.01125356 -0.35094977  0.0027562 ], b: -1.0044831885255299\n",
            " 2700: J:0.28930228268028596, w:[ 0.0051069  -0.00975312  0.01130895 -0.35618705  0.00269077], b: -1.0165018628623206\n",
            " 2800: J:0.28911132280389845, w:[ 0.00512101 -0.00979841  0.01135847 -0.36112451  0.00263039], b: -1.027607714603612\n",
            " 2900: J:0.2889467258492948, w:[ 0.00513379 -0.00983787  0.01140277 -0.36578165  0.00257477], b: -1.0378793549515797\n"
          ]
        },
        {
          "output_type": "display_data",
          "data": {
            "text/plain": [
              "<Figure size 640x480 with 1 Axes>"
            ],
            "image/png": "[encoded data removed]"
          },
          "metadata": {}
        },
        {
          "output_type": "stream",
          "name": "stdout",
          "text": [
            "J_cv: 0.28393820046787294\n",
            "accuracy: 93.275\n"
          ]
        }
      ]
    },
    {
      "cell_type": "markdown",
      "source": [
        "On checking accuracy, we are getting an accuracy of 93.275% on the entire training dataset\n"
      ],
      "metadata": {
        "id": "t5uj7S1EXCMu"
      }
    },
    {
      "cell_type": "code",
      "source": [
        "from google.colab import drive\n",
        "import pandas as pd\n",
        "import numpy as np\n",
        "from google.colab import drive\n",
        "drive.mount('/content/drive')\n",
        "file_path1='/content/drive/My Drive/datasets/binary_classification_test.csv'\n",
        "data1=pd.read_csv(file_path1)\n",
        "matrix1 = data1.iloc[:, 1:].values"
      ],
      "metadata": {
        "colab": {
          "base_uri": "https://localhost:8080/"
        },
        "id": "KM0t42RTSsNT",
        "outputId": "9e3a6384-3879-4822-cfd3-0e91a79ecb03"
      },
      "execution_count": null,
      "outputs": [
        {
          "output_type": "stream",
          "name": "stdout",
          "text": [
            "Drive already mounted at /content/drive; to attempt to forcibly remount, call drive.mount(\"/content/drive\", force_remount=True).\n"
          ]
        }
      ]
    },
    {
      "cell_type": "code",
      "source": [
        "predictions=sigmoid(np.dot(matrix1[:,:20], w)+b)\n",
        "for i in range(12000):\n",
        "  if predictions[i]>=0.5:\n",
        "    predictions[i]=1\n",
        "  else:\n",
        "    predictions[i]=0"
      ],
      "metadata": {
        "id": "k44g1x8fDSK_"
      },
      "execution_count": null,
      "outputs": []
    }
  ]
}